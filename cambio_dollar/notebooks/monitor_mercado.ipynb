{
 "cells": [
  {
   "cell_type": "markdown",
   "id": "817dfdd9",
   "metadata": {},
   "source": [
    "# Monitor en tiempo real USD/DOP\n",
    "\n",
    "Este cuaderno permite inspeccionar los datos almacenados por `cambio-dollar`, generar un consenso actualizado entre proveedores y visualizar el historial con gráficas interactivas.\n",
    "\n",
    "Ejecuta primero las celdas superiores y luego usa `monitor_market` para refrescar automáticamente."
   ]
  },
  {
   "cell_type": "code",
   "execution_count": null,
   "id": "8dcd2529",
   "metadata": {},
   "outputs": [],
   "source": [
    "import sqlite3\n",
    "from datetime import datetime\n",
    "from pathlib import Path\n",
    "import time\n",
    "\n",
    "import pandas as pd\n",
    "import plotly.express as px\n",
    "from IPython.display import display\n",
    "\n",
    "from cambio_dollar.config import get_settings\n",
    "from cambio_dollar.data_provider import MarketDataService\n",
    "from cambio_dollar.repository import MarketRepository"
   ]
  },
  {
   "cell_type": "code",
   "execution_count": null,
   "id": "34817ae3",
   "metadata": {},
   "outputs": [],
   "source": [
    "settings = get_settings()\n",
    "DB_PATH = Path(settings.db_path).resolve()\n",
    "repository = MarketRepository(DB_PATH)\n",
    "\n",
    "def load_rate_history(limit: int = 300) -> pd.DataFrame:\n",
    "    conn = sqlite3.connect(DB_PATH)\n",
    "    try:\n",
    "        df = pd.read_sql_query(\n",
    "            \"\"\"\n",
    "            SELECT timestamp, buy_rate, sell_rate, source\n",
    "            FROM rate_snapshots\n",
    "            ORDER BY timestamp DESC\n",
    "            LIMIT ?\n",
    "            \"\"\",\n",
    "            conn,\n",
    "            params=(limit,),\n",
    "        )\n",
    "    finally:\n",
    "        conn.close()\n",
    "    if df.empty:\n",
    "        return df\n",
    "    df[\"timestamp\"] = pd.to_datetime(df[\"timestamp\"])\n",
    "    return df.sort_values(\"timestamp\").reset_index(drop=True)\n",
    "\n",
    "def latest_consensus():\n",
    "    service = MarketDataService(repository, settings)\n",
    "    try:\n",
    "        return service.consensus_from_repository()\n",
    "    except RuntimeError:\n",
    "        return None\n",
    "    finally:\n",
    "        service.close()\n",
    "\n",
    "def consensus_to_dataframe(consensus) -> pd.DataFrame:\n",
    "    if consensus is None:\n",
    "        return pd.DataFrame()\n",
    "    summary = {\n",
    "        \"timestamp\": [consensus.timestamp],\n",
    "        \"compra\": [consensus.buy_rate],\n",
    "        \"venta\": [consensus.sell_rate],\n",
    "        \"divergencia\": [consensus.divergence_range],\n",
    "        \"proveedores\": [\" | \\ "
   ]
  },
  {
   "cell_type": "code",
   "execution_count": null,
   "id": "1ba73705",
   "metadata": {},
   "outputs": [],
   "source": []
  },
  {
   "cell_type": "code",
   "execution_count": null,
   "id": "d470935d",
   "metadata": {},
   "outputs": [],
   "source": []
  },
  {
   "cell_type": "code",
   "execution_count": null,
   "id": "f18eea49",
   "metadata": {},
   "outputs": [],
   "source": []
  }
 ],
 "metadata": {
  "language_info": {
   "name": "python"
  }
 },
 "nbformat": 4,
 "nbformat_minor": 5
}
